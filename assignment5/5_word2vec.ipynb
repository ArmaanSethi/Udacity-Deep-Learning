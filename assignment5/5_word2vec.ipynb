{
 "cells": [
  {
   "cell_type": "markdown",
   "metadata": {
    "colab_type": "text",
    "id": "D7tqLMoKF6uq"
   },
   "source": [
    "Deep Learning\n",
    "=============\n",
    "\n",
    "Assignment 5\n",
    "------------\n",
    "\n",
    "The goal of this assignment is to train a Word2Vec skip-gram model over [Text8](http://mattmahoney.net/dc/textdata) data."
   ]
  },
  {
   "cell_type": "code",
   "execution_count": 1,
   "metadata": {
    "cellView": "both",
    "colab": {
     "autoexec": {
      "startup": false,
      "wait_interval": 0
     }
    },
    "colab_type": "code",
    "collapsed": true,
    "id": "0K1ZyLn04QZf"
   },
   "outputs": [],
   "source": [
    "# These are all the modules we'll be using later. Make sure you can import them\n",
    "# before proceeding further.\n",
    "%matplotlib inline\n",
    "from __future__ import print_function\n",
    "import collections\n",
    "import math\n",
    "import numpy as np\n",
    "import os\n",
    "import random\n",
    "import tensorflow as tf\n",
    "import zipfile\n",
    "from matplotlib import pylab\n",
    "from six.moves import range\n",
    "from six.moves.urllib.request import urlretrieve\n",
    "from sklearn.manifold import TSNE"
   ]
  },
  {
   "cell_type": "markdown",
   "metadata": {
    "colab_type": "text",
    "id": "aCjPJE944bkV"
   },
   "source": [
    "Download the data from the source website if necessary."
   ]
  },
  {
   "cell_type": "code",
   "execution_count": 2,
   "metadata": {
    "cellView": "both",
    "colab": {
     "autoexec": {
      "startup": false,
      "wait_interval": 0
     },
     "output_extras": [
      {
       "item_id": 1
      }
     ]
    },
    "colab_type": "code",
    "executionInfo": {
     "elapsed": 14640,
     "status": "ok",
     "timestamp": 1445964482948,
     "user": {
      "color": "#1FA15D",
      "displayName": "Vincent Vanhoucke",
      "isAnonymous": false,
      "isMe": true,
      "permissionId": "05076109866853157986",
      "photoUrl": "//lh6.googleusercontent.com/-cCJa7dTDcgQ/AAAAAAAAAAI/AAAAAAAACgw/r2EZ_8oYer4/s50-c-k-no/photo.jpg",
      "sessionId": "2f1ffade4c9f20de",
      "userId": "102167687554210253930"
     },
     "user_tz": 420
    },
    "id": "RJ-o3UBUFtCw",
    "outputId": "c4ec222c-80b5-4298-e635-93ca9f79c3b7"
   },
   "outputs": [
    {
     "name": "stdout",
     "output_type": "stream",
     "text": [
      "Found and verified text8.zip\n"
     ]
    }
   ],
   "source": [
    "url = 'http://mattmahoney.net/dc/'\n",
    "\n",
    "def maybe_download(filename, expected_bytes):\n",
    "  \"\"\"Download a file if not present, and make sure it's the right size.\"\"\"\n",
    "  if not os.path.exists(filename):\n",
    "    filename, _ = urlretrieve(url + filename, filename)\n",
    "  statinfo = os.stat(filename)\n",
    "  if statinfo.st_size == expected_bytes:\n",
    "    print('Found and verified %s' % filename)\n",
    "  else:\n",
    "    print(statinfo.st_size)\n",
    "    raise Exception(\n",
    "      'Failed to verify ' + filename + '. Can you get to it with a browser?')\n",
    "  return filename\n",
    "\n",
    "filename = maybe_download('text8.zip', 31344016)"
   ]
  },
  {
   "cell_type": "markdown",
   "metadata": {
    "colab_type": "text",
    "id": "Zqz3XiqI4mZT"
   },
   "source": [
    "Read the data into a string."
   ]
  },
  {
   "cell_type": "code",
   "execution_count": 3,
   "metadata": {
    "cellView": "both",
    "colab": {
     "autoexec": {
      "startup": false,
      "wait_interval": 0
     },
     "output_extras": [
      {
       "item_id": 1
      }
     ]
    },
    "colab_type": "code",
    "executionInfo": {
     "elapsed": 28844,
     "status": "ok",
     "timestamp": 1445964497165,
     "user": {
      "color": "#1FA15D",
      "displayName": "Vincent Vanhoucke",
      "isAnonymous": false,
      "isMe": true,
      "permissionId": "05076109866853157986",
      "photoUrl": "//lh6.googleusercontent.com/-cCJa7dTDcgQ/AAAAAAAAAAI/AAAAAAAACgw/r2EZ_8oYer4/s50-c-k-no/photo.jpg",
      "sessionId": "2f1ffade4c9f20de",
      "userId": "102167687554210253930"
     },
     "user_tz": 420
    },
    "id": "Mvf09fjugFU_",
    "outputId": "e3a928b4-1645-4fe8-be17-fcf47de5716d"
   },
   "outputs": [
    {
     "name": "stdout",
     "output_type": "stream",
     "text": [
      "Data size 17005207\n"
     ]
    }
   ],
   "source": [
    "def read_data(filename):\n",
    "  \"\"\"Extract the first file enclosed in a zip file as a list of words\"\"\"\n",
    "  with zipfile.ZipFile(filename) as f:\n",
    "    data = tf.compat.as_str(f.read(f.namelist()[0])).split()\n",
    "  return data\n",
    "  \n",
    "words = read_data(filename)\n",
    "print('Data size %d' % len(words))"
   ]
  },
  {
   "cell_type": "markdown",
   "metadata": {
    "colab_type": "text",
    "id": "Zdw6i4F8glpp"
   },
   "source": [
    "Build the dictionary and replace rare words with UNK token."
   ]
  },
  {
   "cell_type": "code",
   "execution_count": 4,
   "metadata": {
    "cellView": "both",
    "colab": {
     "autoexec": {
      "startup": false,
      "wait_interval": 0
     },
     "output_extras": [
      {
       "item_id": 1
      }
     ]
    },
    "colab_type": "code",
    "executionInfo": {
     "elapsed": 28849,
     "status": "ok",
     "timestamp": 1445964497178,
     "user": {
      "color": "#1FA15D",
      "displayName": "Vincent Vanhoucke",
      "isAnonymous": false,
      "isMe": true,
      "permissionId": "05076109866853157986",
      "photoUrl": "//lh6.googleusercontent.com/-cCJa7dTDcgQ/AAAAAAAAAAI/AAAAAAAACgw/r2EZ_8oYer4/s50-c-k-no/photo.jpg",
      "sessionId": "2f1ffade4c9f20de",
      "userId": "102167687554210253930"
     },
     "user_tz": 420
    },
    "id": "gAL1EECXeZsD",
    "outputId": "3fb4ecd1-df67-44b6-a2dc-2291730970b2"
   },
   "outputs": [
    {
     "name": "stdout",
     "output_type": "stream",
     "text": [
      "Most common words (+UNK) [['UNK', 418391], ('the', 1061396), ('of', 593677), ('and', 416629), ('one', 411764)]\n",
      "Sample data [5234, 3081, 12, 6, 195, 2, 3134, 46, 59, 156]\n"
     ]
    }
   ],
   "source": [
    "vocabulary_size = 50000\n",
    "\n",
    "def build_dataset(words):\n",
    "  count = [['UNK', -1]]\n",
    "  count.extend(collections.Counter(words).most_common(vocabulary_size - 1))\n",
    "  dictionary = dict()\n",
    "  for word, _ in count:\n",
    "    dictionary[word] = len(dictionary)\n",
    "  data = list()\n",
    "  unk_count = 0\n",
    "  for word in words:\n",
    "    if word in dictionary:\n",
    "      index = dictionary[word]\n",
    "    else:\n",
    "      index = 0  # dictionary['UNK']\n",
    "      unk_count = unk_count + 1\n",
    "    data.append(index)\n",
    "  count[0][1] = unk_count\n",
    "  reverse_dictionary = dict(zip(dictionary.values(), dictionary.keys())) \n",
    "  return data, count, dictionary, reverse_dictionary\n",
    "\n",
    "data, count, dictionary, reverse_dictionary = build_dataset(words)\n",
    "print('Most common words (+UNK)', count[:5])\n",
    "print('Sample data', data[:10])\n",
    "del words  # Hint to reduce memory."
   ]
  },
  {
   "cell_type": "markdown",
   "metadata": {
    "colab_type": "text",
    "id": "lFwoyygOmWsL"
   },
   "source": [
    "Function to generate a training batch for the skip-gram model."
   ]
  },
  {
   "cell_type": "code",
   "execution_count": 5,
   "metadata": {
    "cellView": "both",
    "colab": {
     "autoexec": {
      "startup": false,
      "wait_interval": 0
     },
     "output_extras": [
      {
       "item_id": 1
      }
     ]
    },
    "colab_type": "code",
    "executionInfo": {
     "elapsed": 113,
     "status": "ok",
     "timestamp": 1445964901989,
     "user": {
      "color": "#1FA15D",
      "displayName": "Vincent Vanhoucke",
      "isAnonymous": false,
      "isMe": true,
      "permissionId": "05076109866853157986",
      "photoUrl": "//lh6.googleusercontent.com/-cCJa7dTDcgQ/AAAAAAAAAAI/AAAAAAAACgw/r2EZ_8oYer4/s50-c-k-no/photo.jpg",
      "sessionId": "2f1ffade4c9f20de",
      "userId": "102167687554210253930"
     },
     "user_tz": 420
    },
    "id": "w9APjA-zmfjV",
    "outputId": "67cccb02-cdaf-4e47-d489-43bcc8d57bb8"
   },
   "outputs": [
    {
     "name": "stdout",
     "output_type": "stream",
     "text": [
      "data: ['anarchism', 'originated', 'as', 'a', 'term', 'of', 'abuse', 'first']\n",
      "\n",
      "with num_skips = 2 and skip_window = 1:\n",
      "    batch: ['originated', 'originated', 'as', 'as', 'a', 'a', 'term', 'term']\n",
      "    labels: ['as', 'anarchism', 'originated', 'a', 'as', 'term', 'of', 'a']\n",
      "\n",
      "with num_skips = 4 and skip_window = 2:\n",
      "    batch: ['as', 'as', 'as', 'as', 'a', 'a', 'a', 'a']\n",
      "    labels: ['term', 'anarchism', 'a', 'originated', 'term', 'as', 'of', 'originated']\n"
     ]
    }
   ],
   "source": [
    "data_index = 0\n",
    "\n",
    "def generate_batch(batch_size, num_skips, skip_window):\n",
    "  global data_index\n",
    "  assert batch_size % num_skips == 0\n",
    "  assert num_skips <= 2 * skip_window\n",
    "  batch = np.ndarray(shape=(batch_size), dtype=np.int32)\n",
    "  labels = np.ndarray(shape=(batch_size, 1), dtype=np.int32)\n",
    "  span = 2 * skip_window + 1 # [ skip_window target skip_window ]\n",
    "  buffer = collections.deque(maxlen=span)\n",
    "  for _ in range(span):\n",
    "    buffer.append(data[data_index])\n",
    "    data_index = (data_index + 1) % len(data)\n",
    "  for i in range(batch_size // num_skips):\n",
    "    target = skip_window  # target label at the center of the buffer\n",
    "    targets_to_avoid = [ skip_window ]\n",
    "    for j in range(num_skips):\n",
    "      while target in targets_to_avoid:\n",
    "        target = random.randint(0, span - 1)\n",
    "      targets_to_avoid.append(target)\n",
    "      batch[i * num_skips + j] = buffer[skip_window]\n",
    "      labels[i * num_skips + j, 0] = buffer[target]\n",
    "    buffer.append(data[data_index])\n",
    "    data_index = (data_index + 1) % len(data)\n",
    "  return batch, labels\n",
    "\n",
    "print('data:', [reverse_dictionary[di] for di in data[:8]])\n",
    "\n",
    "for num_skips, skip_window in [(2, 1), (4, 2)]:\n",
    "    data_index = 0\n",
    "    batch, labels = generate_batch(batch_size=8, num_skips=num_skips, skip_window=skip_window)\n",
    "    print('\\nwith num_skips = %d and skip_window = %d:' % (num_skips, skip_window))\n",
    "    print('    batch:', [reverse_dictionary[bi] for bi in batch])\n",
    "    print('    labels:', [reverse_dictionary[li] for li in labels.reshape(8)])"
   ]
  },
  {
   "cell_type": "markdown",
   "metadata": {
    "colab_type": "text",
    "id": "Ofd1MbBuwiva"
   },
   "source": [
    "Train a skip-gram model."
   ]
  },
  {
   "cell_type": "code",
   "execution_count": 6,
   "metadata": {
    "cellView": "both",
    "colab": {
     "autoexec": {
      "startup": false,
      "wait_interval": 0
     }
    },
    "colab_type": "code",
    "collapsed": true,
    "id": "8pQKsV4Vwlzy"
   },
   "outputs": [],
   "source": [
    "batch_size = 128\n",
    "embedding_size = 128 # Dimension of the embedding vector.\n",
    "skip_window = 1 # How many words to consider left and right.\n",
    "num_skips = 2 # How many times to reuse an input to generate a label.\n",
    "# We pick a random validation set to sample nearest neighbors. here we limit the\n",
    "# validation samples to the words that have a low numeric ID, which by\n",
    "# construction are also the most frequent. \n",
    "valid_size = 16 # Random set of words to evaluate similarity on.\n",
    "valid_window = 100 # Only pick dev samples in the head of the distribution.\n",
    "valid_examples = np.array(random.sample(range(valid_window), valid_size))\n",
    "num_sampled = 64 # Number of negative examples to sample.\n",
    "\n",
    "graph = tf.Graph()\n",
    "\n",
    "with graph.as_default(), tf.device('/cpu:0'):\n",
    "\n",
    "  # Input data.\n",
    "  train_dataset = tf.placeholder(tf.int32, shape=[batch_size])\n",
    "  train_labels = tf.placeholder(tf.int32, shape=[batch_size, 1])\n",
    "  valid_dataset = tf.constant(valid_examples, dtype=tf.int32)\n",
    "  \n",
    "  # Variables.\n",
    "  embeddings = tf.Variable(\n",
    "    tf.random_uniform([vocabulary_size, embedding_size], -1.0, 1.0))\n",
    "  softmax_weights = tf.Variable(\n",
    "    tf.truncated_normal([vocabulary_size, embedding_size],\n",
    "                         stddev=1.0 / math.sqrt(embedding_size)))\n",
    "  softmax_biases = tf.Variable(tf.zeros([vocabulary_size]))\n",
    "  \n",
    "  # Model.\n",
    "  # Look up embeddings for inputs.\n",
    "  embed = tf.nn.embedding_lookup(embeddings, train_dataset)\n",
    "  # Compute the softmax loss, using a sample of the negative labels each time.\n",
    "  loss = tf.reduce_mean(\n",
    "    tf.nn.sampled_softmax_loss(weights=softmax_weights, biases=softmax_biases, inputs=embed,\n",
    "                               labels=train_labels, num_sampled=num_sampled, num_classes=vocabulary_size))\n",
    "\n",
    "  # Optimizer.\n",
    "  # Note: The optimizer will optimize the softmax_weights AND the embeddings.\n",
    "  # This is because the embeddings are defined as a variable quantity and the\n",
    "  # optimizer's `minimize` method will by default modify all variable quantities \n",
    "  # that contribute to the tensor it is passed.\n",
    "  # See docs on `tf.train.Optimizer.minimize()` for more details.\n",
    "  optimizer = tf.train.AdagradOptimizer(1.0).minimize(loss)\n",
    "  \n",
    "  # Compute the similarity between minibatch examples and all embeddings.\n",
    "  # We use the cosine distance:\n",
    "  norm = tf.sqrt(tf.reduce_sum(tf.square(embeddings), 1, keep_dims=True))\n",
    "  normalized_embeddings = embeddings / norm\n",
    "  valid_embeddings = tf.nn.embedding_lookup(\n",
    "    normalized_embeddings, valid_dataset)\n",
    "  similarity = tf.matmul(valid_embeddings, tf.transpose(normalized_embeddings))"
   ]
  },
  {
   "cell_type": "code",
   "execution_count": null,
   "metadata": {
    "cellView": "both",
    "colab": {
     "autoexec": {
      "startup": false,
      "wait_interval": 0
     },
     "output_extras": [
      {
       "item_id": 23
      },
      {
       "item_id": 48
      },
      {
       "item_id": 61
      }
     ]
    },
    "colab_type": "code",
    "executionInfo": {
     "elapsed": 436189,
     "status": "ok",
     "timestamp": 1445965429787,
     "user": {
      "color": "#1FA15D",
      "displayName": "Vincent Vanhoucke",
      "isAnonymous": false,
      "isMe": true,
      "permissionId": "05076109866853157986",
      "photoUrl": "//lh6.googleusercontent.com/-cCJa7dTDcgQ/AAAAAAAAAAI/AAAAAAAACgw/r2EZ_8oYer4/s50-c-k-no/photo.jpg",
      "sessionId": "2f1ffade4c9f20de",
      "userId": "102167687554210253930"
     },
     "user_tz": 420
    },
    "id": "1bQFGceBxrWW",
    "outputId": "5ebd6d9a-33c6-4bcd-bf6d-252b0b6055e4"
   },
   "outputs": [
    {
     "name": "stdout",
     "output_type": "stream",
     "text": [
      "Initialized\n",
      "Average loss at step 0: 7.791736\n",
      "Nearest to have: chalcolithic, proofs, troyes, nippur, sennett, robinson, brig, imperatives,\n",
      "Nearest to so: grenadines, tain, credited, hmac, untranslated, hogarth, lou, mist,\n",
      "Nearest to people: abdal, renault, shiv, dover, dune, globalization, sibelius, mariano,\n",
      "Nearest to american: interpretations, herbal, hagi, carmack, sampo, instrumentation, gambia, unfolded,\n",
      "Nearest to known: innocent, wingspan, transitory, drives, obscenity, prospects, cimbri, perceptible,\n",
      "Nearest to it: poetess, net, basses, christianized, santana, curries, themed, carly,\n",
      "Nearest to about: flushed, festive, ensued, reclining, kinetics, ratings, rental, assisted,\n",
      "Nearest to of: samyaksam, ecc, aml, baluchistan, responsibilities, granville, dario, slow,\n",
      "Nearest to world: underdog, pressures, mma, neoconservative, revelation, reprogramming, arctan, stjepan,\n",
      "Nearest to states: roman, whereas, strides, orser, billed, compensatory, cvd, mackintosh,\n",
      "Nearest to no: difficulties, glean, salinger, seduction, ho, negligence, aud, shotgun,\n",
      "Nearest to than: whewell, provokes, octagon, irresponsibility, disenchanted, finale, genet, interruption,\n",
      "Nearest to its: graz, satirised, althing, reeds, flies, nmi, fecture, accompanied,\n",
      "Nearest to one: regular, branches, meteor, fathered, prudent, bosniaks, ore, miggins,\n",
      "Nearest to only: thor, sweets, rationale, enactments, over, ons, lansdowne, batch,\n",
      "Nearest to i: planck, pooling, talal, vigorous, chloroform, zar, cnn, alameda,\n",
      "Average loss at step 2000: 4.366485\n",
      "Average loss at step 4000: 3.869932\n",
      "Average loss at step 6000: 3.788019\n",
      "Average loss at step 8000: 3.686863\n",
      "Average loss at step 10000: 3.616225\n",
      "Nearest to have: had, be, has, are, labs, were, cohesive, troyes,\n",
      "Nearest to so: credited, lou, laertius, untranslated, locative, pouches, nominates, cesium,\n",
      "Nearest to people: abdal, those, words, renault, we, fermented, proportionally, exempt,\n",
      "Nearest to american: mills, erudite, inorganic, english, foothold, budge, lengths, gambia,\n",
      "Nearest to known: elkhart, innocent, adamant, wingspan, troyes, epiphany, christoph, obscenity,\n",
      "Nearest to it: he, there, this, she, not, never, they, which,\n",
      "Nearest to about: festive, thrown, maximization, unwilling, resultant, rs, ishiro, tamias,\n",
      "Nearest to of: in, at, including, brutally, for, illiteracy, skeptic, walkway,\n",
      "Nearest to world: underdog, reprogramming, tuner, country, gurney, http, mabo, arctan,\n",
      "Nearest to states: roman, compensatory, whereas, dictionaries, billed, orser, spokesman, mackintosh,\n",
      "Nearest to no: uther, glean, seduction, shotgun, elegance, it, commander, ho,\n",
      "Nearest to than: whewell, irresponsibility, bloomington, cosmetics, provokes, richland, solanas, or,\n",
      "Nearest to its: the, their, satirised, althing, his, intended, electronegativity, delgado,\n",
      "Nearest to one: two, three, six, causeway, eight, four, ampersand, eliza,\n",
      "Nearest to only: over, intersects, nicephorus, pollutant, wards, tsarevich, deeply, tristar,\n",
      "Nearest to i: planck, quarrel, pooling, timescales, zar, swivel, kamenev, voor,\n",
      "Average loss at step 12000: 3.602752\n",
      "Average loss at step 14000: 3.573453\n",
      "Average loss at step 16000: 3.406785\n",
      "Average loss at step 18000: 3.458652\n",
      "Average loss at step 20000: 3.539043\n",
      "Nearest to have: had, has, be, are, were, labs, holmes, quito,\n",
      "Nearest to so: credited, locative, pouches, lou, cesium, nominates, haddock, untranslated,\n",
      "Nearest to people: those, abdal, conceivably, words, results, renault, warnings, away,\n",
      "Nearest to american: british, english, budge, gambia, mills, lengths, batll, tretyakov,\n",
      "Nearest to known: such, regarded, elkhart, adamant, lettuce, used, wingspan, ascent,\n",
      "Nearest to it: he, there, this, which, she, they, not, basses,\n",
      "Nearest to about: thrown, monazite, nernst, maximization, ishiro, resultant, numeric, festive,\n",
      "Nearest to of: skeptic, for, kaunda, including, selves, from, inositol, in,\n",
      "Nearest to world: reprogramming, country, tuner, http, airing, arctan, staub, city,\n",
      "Nearest to states: whereas, compensatory, roman, kingdom, guild, billed, bnetd, spokesman,\n",
      "Nearest to no: uther, seduction, a, elegance, glean, dmz, already, cremona,\n",
      "Nearest to than: or, irresponsibility, cosmetics, bloomington, provokes, durability, coherent, disenchanted,\n",
      "Nearest to its: their, his, the, her, our, some, ammonius, electronegativity,\n",
      "Nearest to one: two, four, three, eight, six, seven, five, nine,\n",
      "Nearest to only: over, intersects, wards, daugavpils, tsarevich, deeply, nicephorus, signal,\n",
      "Nearest to i: ii, voor, planck, quarrel, silhouette, we, inductance, foxes,\n",
      "Average loss at step 22000: 3.504049\n",
      "Average loss at step 24000: 3.494686\n",
      "Average loss at step 26000: 3.482883\n",
      "Average loss at step 28000: 3.481251\n",
      "Average loss at step 30000: 3.503725\n",
      "Nearest to have: had, has, be, are, were, labs, having, pocketing,\n",
      "Nearest to so: locative, credited, comma, afield, nominates, punished, pouches, cesium,\n",
      "Nearest to people: abdal, those, sarmatians, conceivably, we, individuals, renault, armory,\n",
      "Nearest to american: british, english, australian, german, jewish, scanline, inorganic, international,\n",
      "Nearest to known: used, regarded, such, described, well, elkhart, lettuce, interludes,\n",
      "Nearest to it: he, there, this, she, they, which, also, we,\n",
      "Nearest to about: ishiro, thrown, spine, ratings, plesiosaur, resultant, methodological, manchurian,\n",
      "Nearest to of: in, from, for, including, mongo, rk, inlaid, and,\n",
      "Nearest to world: reprogramming, tuner, country, joh, city, capital, trojan, underdog,\n",
      "Nearest to states: kingdom, compensatory, whereas, guild, formalism, billed, spokesman, roman,\n",
      "Nearest to no: uther, elegance, seduction, glean, cremona, mummification, oup, dmz,\n",
      "Nearest to than: much, cosmetics, irresponsibility, erectus, blackhawks, bloomington, durability, snyder,\n",
      "Nearest to its: their, the, his, damages, her, thunderstorm, our, commanding,\n",
      "Nearest to one: two, four, seven, five, eight, three, six, nine,\n",
      "Nearest to only: over, intersects, wards, tsarevich, signal, recitative, most, pencil,\n",
      "Nearest to i: ii, we, voor, planck, iii, silhouette, velocities, quarrel,\n",
      "Average loss at step 32000: 3.506527\n",
      "Average loss at step 34000: 3.497680\n",
      "Average loss at step 36000: 3.456371\n",
      "Average loss at step 38000: 3.297094\n",
      "Average loss at step 40000: 3.433413\n",
      "Nearest to have: had, has, were, are, be, beak, decide, labs,\n",
      "Nearest to so: locative, sighted, liam, cesium, punished, kaposi, reese, then,\n",
      "Nearest to people: those, abdal, things, words, children, men, armory, finds,\n",
      "Nearest to american: british, english, australian, german, international, inorganic, russian, swedish,\n",
      "Nearest to known: used, such, regarded, described, well, elkhart, defined, confer,\n",
      "Nearest to it: he, she, there, they, this, which, still, generated,\n",
      "Nearest to about: thrown, methodological, ishiro, monazite, plesiosaur, reinvent, ao, defences,\n",
      "Nearest to of: in, evers, replicating, from, inositol, including, sunny, actual,\n",
      "Nearest to world: reprogramming, trojan, tuner, country, staub, favoured, negara, principles,\n",
      "Nearest to states: kingdom, guild, spokesman, compensatory, bnetd, formalism, andalus, reporters,\n",
      "Nearest to no: uther, caius, any, mummification, enco, footnotes, jays, laced,\n",
      "Nearest to than: or, much, irresponsibility, erectus, durability, spilled, cosmetics, hawkwind,\n",
      "Nearest to its: their, his, the, her, our, damages, dorsey, commanding,\n",
      "Nearest to one: four, two, seven, five, six, eight, three, nine,\n",
      "Nearest to only: ere, wards, over, conceived, alef, caledonia, total, signal,\n",
      "Nearest to i: we, ii, you, planck, they, he, voor, quarrel,\n",
      "Average loss at step 42000: 3.434673\n",
      "Average loss at step 44000: 3.455462\n",
      "Average loss at step 46000: 3.451554\n",
      "Average loss at step 48000: 3.350540\n",
      "Average loss at step 50000: 3.385029\n",
      "Nearest to have: had, has, be, were, having, are, decide, faked,\n",
      "Nearest to so: then, if, when, chuan, liam, cesium, athenians, incl,\n",
      "Nearest to people: children, abdal, things, words, men, armory, cases, conceivably,\n",
      "Nearest to american: english, british, australian, international, european, swedish, german, french,\n",
      "Nearest to known: used, such, regarded, described, well, defined, recognized, available,\n",
      "Nearest to it: he, there, she, this, they, not, still, pointed,\n",
      "Nearest to about: gauguin, methodological, monazite, thrown, webber, plesiosaur, ishiro, reinvent,\n",
      "Nearest to of: in, and, inositol, selves, evers, for, walkway, including,\n",
      "Nearest to world: trojan, reprogramming, negara, staub, tuner, vietnam, protests, principles,\n",
      "Nearest to states: kingdom, guild, spokesman, shelter, counties, compensatory, benzyl, ars,\n",
      "Nearest to no: uther, concerned, any, mummification, caius, hornblower, intellectually, consternation,\n",
      "Nearest to than: much, or, erectus, hawkwind, irresponsibility, authoritarian, weathered, rudyard,\n",
      "Nearest to its: their, his, the, her, our, ammonius, laurier, hezekiah,\n",
      "Nearest to one: two, six, eight, four, seven, five, three, nine,\n",
      "Nearest to only: ere, protege, actually, matheson, always, wards, being, nicephorus,\n"
     ]
    },
    {
     "name": "stdout",
     "output_type": "stream",
     "text": [
      "Nearest to i: we, ii, you, planck, voor, never, they, t,\n",
      "Average loss at step 52000: 3.438402\n",
      "Average loss at step 54000: 3.427226\n",
      "Average loss at step 56000: 3.442090\n",
      "Average loss at step 58000: 3.403527\n",
      "Average loss at step 60000: 3.397442\n",
      "Nearest to have: has, had, be, were, are, provide, having, produce,\n",
      "Nearest to so: if, then, liam, when, wwf, chuan, suggests, sometimes,\n",
      "Nearest to people: things, men, americans, abdal, children, words, those, cases,\n",
      "Nearest to american: british, european, australian, swedish, international, english, russian, tabari,\n",
      "Nearest to known: used, regarded, such, described, defined, libretto, well, recognized,\n",
      "Nearest to it: he, there, she, this, which, they, what, also,\n",
      "Nearest to about: gauguin, thrown, reusable, plesiosaur, webber, reinvent, ishiro, brim,\n",
      "Nearest to of: for, in, like, including, same, actual, replicating, vue,\n",
      "Nearest to world: reprogramming, trojan, tuner, country, largest, joh, ugly, vietnam,\n",
      "Nearest to states: kingdom, nations, guild, state, spokesman, andalus, dug, reporters,\n",
      "Nearest to no: uther, caius, any, concerned, hornblower, mummification, little, consternation,\n",
      "Nearest to than: much, and, but, authoritarian, or, durability, erectus, irresponsibility,\n",
      "Nearest to its: their, his, the, her, our, ammonius, fita, clump,\n",
      "Nearest to one: six, two, eight, seven, four, five, three, nine,\n",
      "Nearest to only: actually, still, always, first, ere, matheson, necessarily, until,\n",
      "Nearest to i: we, ii, you, iii, t, voor, planck, velocities,\n",
      "Average loss at step 62000: 3.242520\n",
      "Average loss at step 64000: 3.258669\n",
      "Average loss at step 66000: 3.405468\n",
      "Average loss at step 68000: 3.392667\n",
      "Average loss at step 70000: 3.363628\n",
      "Nearest to have: had, has, were, are, be, provide, having, fretted,\n",
      "Nearest to so: then, sometimes, liam, if, cesium, chuan, know, incl,\n",
      "Nearest to people: men, americans, children, those, abdal, things, women, cases,\n",
      "Nearest to american: british, swedish, australian, european, english, international, huangdi, digestive,\n",
      "Nearest to known: used, regarded, such, described, defined, well, recognized, seen,\n",
      "Nearest to it: he, she, there, this, they, still, also, never,\n",
      "Nearest to about: gauguin, ishiro, on, reinvent, plesiosaur, thrown, reusable, rigidity,\n",
      "Nearest to of: including, include, like, and, andree, nativity, inositol, actual,\n",
      "Nearest to world: country, trojan, reprogramming, tuner, ugly, largest, joh, negara,\n",
      "Nearest to states: kingdom, state, nations, guild, andalus, counties, spokesman, dug,\n",
      "Nearest to no: caius, concerned, little, uther, any, hornblower, consternation, ghali,\n",
      "Nearest to than: much, erectus, but, or, authoritarian, weathered, hawkwind, durability,\n",
      "Nearest to its: their, his, the, her, our, fita, agouti, ganges,\n",
      "Nearest to one: two, seven, six, four, eight, five, three, nine,\n",
      "Nearest to only: still, always, necessarily, actually, bulbs, first, ere, matheson,\n",
      "Nearest to i: we, ii, you, voor, velocities, g, planck, pulley,\n",
      "Average loss at step 72000: 3.374882\n",
      "Average loss at step 74000: 3.352474\n",
      "Average loss at step 76000: 3.317129\n",
      "Average loss at step 78000: 3.353254\n",
      "Average loss at step 80000: 3.375701\n",
      "Nearest to have: had, has, be, are, were, having, provide, labs,\n",
      "Nearest to so: sometimes, then, liam, if, suggests, cesium, wwf, akshara,\n",
      "Nearest to people: men, children, americans, abdal, words, cases, women, things,\n",
      "Nearest to american: british, european, swedish, australian, russian, french, italian, german,\n",
      "Nearest to known: used, regarded, defined, described, called, such, recognized, referred,\n",
      "Nearest to it: he, she, there, this, they, we, not, still,\n",
      "Nearest to about: reusable, ishiro, gauguin, thirds, thrown, unwilling, infringement, over,\n",
      "Nearest to of: in, including, sadducees, irreversibly, entire, illiteracy, ineffable, pataki,\n",
      "Nearest to world: country, trojan, tuner, blitzkrieg, reprogramming, negara, alf, ugly,\n",
      "Nearest to states: kingdom, state, nations, guild, dug, spokesman, conspicuous, andalus,\n",
      "Nearest to no: little, any, caius, hornblower, concerned, mummification, uther, alleviate,\n",
      "Nearest to than: much, erectus, far, or, while, but, hawkwind, irresponsibility,\n",
      "Nearest to its: their, his, her, the, our, your, ganges, asterism,\n",
      "Nearest to one: six, seven, two, four, eight, three, five, nine,\n",
      "Nearest to only: always, necessarily, still, lcc, developments, bulbs, closest, actually,\n",
      "Nearest to i: ii, we, you, iii, g, voor, planck, velocities,\n",
      "Average loss at step 82000: 3.409901\n",
      "Average loss at step 84000: 3.412668\n",
      "Average loss at step 86000: 3.387676\n"
     ]
    }
   ],
   "source": [
    "num_steps = 100001\n",
    "\n",
    "with tf.Session(graph=graph) as session:\n",
    "  tf.global_variables_initializer().run()\n",
    "  print('Initialized')\n",
    "  average_loss = 0\n",
    "  for step in range(num_steps):\n",
    "    batch_data, batch_labels = generate_batch(\n",
    "      batch_size, num_skips, skip_window)\n",
    "    feed_dict = {train_dataset : batch_data, train_labels : batch_labels}\n",
    "    _, l = session.run([optimizer, loss], feed_dict=feed_dict)\n",
    "    average_loss += l\n",
    "    if step % 2000 == 0:\n",
    "      if step > 0:\n",
    "        average_loss = average_loss / 2000\n",
    "      # The average loss is an estimate of the loss over the last 2000 batches.\n",
    "      print('Average loss at step %d: %f' % (step, average_loss))\n",
    "      average_loss = 0\n",
    "    # note that this is expensive (~20% slowdown if computed every 500 steps)\n",
    "    if step % 10000 == 0:\n",
    "      sim = similarity.eval()\n",
    "      for i in range(valid_size):\n",
    "        valid_word = reverse_dictionary[valid_examples[i]]\n",
    "        top_k = 8 # number of nearest neighbors\n",
    "        nearest = (-sim[i, :]).argsort()[1:top_k+1]\n",
    "        log = 'Nearest to %s:' % valid_word\n",
    "        for k in range(top_k):\n",
    "          close_word = reverse_dictionary[nearest[k]]\n",
    "          log = '%s %s,' % (log, close_word)\n",
    "        print(log)\n",
    "  final_embeddings = normalized_embeddings.eval()"
   ]
  },
  {
   "cell_type": "code",
   "execution_count": null,
   "metadata": {
    "cellView": "both",
    "colab": {
     "autoexec": {
      "startup": false,
      "wait_interval": 0
     }
    },
    "colab_type": "code",
    "collapsed": true,
    "id": "jjJXYA_XzV79"
   },
   "outputs": [],
   "source": [
    "num_points = 400\n",
    "\n",
    "tsne = TSNE(perplexity=30, n_components=2, init='pca', n_iter=5000)\n",
    "two_d_embeddings = tsne.fit_transform(final_embeddings[1:num_points+1, :])"
   ]
  },
  {
   "cell_type": "code",
   "execution_count": null,
   "metadata": {
    "cellView": "both",
    "colab": {
     "autoexec": {
      "startup": false,
      "wait_interval": 0
     },
     "output_extras": [
      {
       "item_id": 1
      }
     ]
    },
    "colab_type": "code",
    "collapsed": true,
    "executionInfo": {
     "elapsed": 4763,
     "status": "ok",
     "timestamp": 1445965465525,
     "user": {
      "color": "#1FA15D",
      "displayName": "Vincent Vanhoucke",
      "isAnonymous": false,
      "isMe": true,
      "permissionId": "05076109866853157986",
      "photoUrl": "//lh6.googleusercontent.com/-cCJa7dTDcgQ/AAAAAAAAAAI/AAAAAAAACgw/r2EZ_8oYer4/s50-c-k-no/photo.jpg",
      "sessionId": "2f1ffade4c9f20de",
      "userId": "102167687554210253930"
     },
     "user_tz": 420
    },
    "id": "o_e0D_UezcDe",
    "outputId": "df22e4a5-e8ec-4e5e-d384-c6cf37c68c34"
   },
   "outputs": [],
   "source": [
    "def plot(embeddings, labels):\n",
    "  assert embeddings.shape[0] >= len(labels), 'More labels than embeddings'\n",
    "  pylab.figure(figsize=(15,15))  # in inches\n",
    "  for i, label in enumerate(labels):\n",
    "    x, y = embeddings[i,:]\n",
    "    pylab.scatter(x, y)\n",
    "    pylab.annotate(label, xy=(x, y), xytext=(5, 2), textcoords='offset points',\n",
    "                   ha='right', va='bottom')\n",
    "  pylab.show()\n",
    "\n",
    "words = [reverse_dictionary[i] for i in range(1, num_points+1)]\n",
    "plot(two_d_embeddings, words)"
   ]
  },
  {
   "cell_type": "markdown",
   "metadata": {
    "colab_type": "text",
    "id": "QB5EFrBnpNnc"
   },
   "source": [
    "---\n",
    "\n",
    "Problem\n",
    "-------\n",
    "\n",
    "An alternative to skip-gram is another Word2Vec model called [CBOW](http://arxiv.org/abs/1301.3781) (Continuous Bag of Words). In the CBOW model, instead of predicting a context word from a word vector, you predict a word from the sum of all the word vectors in its context. Implement and evaluate a CBOW model trained on the text8 dataset.\n",
    "\n",
    "---"
   ]
  },
  {
   "cell_type": "code",
   "execution_count": null,
   "metadata": {
    "collapsed": true
   },
   "outputs": [],
   "source": [
    "data_index = 0\n",
    "\n",
    "def generate_batch(batch_size, bag_window):\n",
    "  global data_index\n",
    "  span = 2 * bag_window + 1 # [ bag_window target bag_window ]\n",
    "  batch = np.ndarray(shape=(batch_size, span - 1), dtype=np.int32)\n",
    "  labels = np.ndarray(shape=(batch_size, 1), dtype=np.int32)  \n",
    "  buffer = collections.deque(maxlen=span)\n",
    "  for _ in range(span):\n",
    "    buffer.append(data[data_index])\n",
    "    data_index = (data_index + 1) % len(data)\n",
    "  for i in range(batch_size):\n",
    "    # just for testing\n",
    "    buffer_list = list(buffer)\n",
    "    labels[i, 0] = buffer_list.pop(bag_window)\n",
    "    batch[i] = buffer_list\n",
    "    # iterate to the next buffer\n",
    "    buffer.append(data[data_index])\n",
    "    data_index = (data_index + 1) % len(data)\n",
    "  return batch, labels\n",
    "\n",
    "print('data:', [reverse_dictionary[di] for di in data[:16]])\n",
    "\n",
    "for bag_window in [1, 2]:\n",
    "  data_index = 0\n",
    "  batch, labels = generate_batch(batch_size=4, bag_window=bag_window)\n",
    "  print('\\nwith bag_window = %d:' % (bag_window))  \n",
    "  print('    batch:', [[reverse_dictionary[w] for w in bi] for bi in batch])  \n",
    "  print('    labels:', [reverse_dictionary[li] for li in labels.reshape(4)])\n"
   ]
  },
  {
   "cell_type": "code",
   "execution_count": null,
   "metadata": {
    "collapsed": true
   },
   "outputs": [],
   "source": [
    "batch_size = 128\n",
    "embedding_size = 128 # Dimension of the embedding vector.\n",
    "###skip_window = 1 # How many words to consider left and right.\n",
    "###num_skips = 2 # How many times to reuse an input to generate a label.\n",
    "bag_window = 2 # How many words to consider left and right.\n",
    "# We pick a random validation set to sample nearest neighbors. here we limit the\n",
    "# validation samples to the words that have a low numeric ID, which by\n",
    "# construction are also the most frequent. \n",
    "valid_size = 16 # Random set of words to evaluate similarity on.\n",
    "valid_window = 100 # Only pick dev samples in the head of the distribution.\n",
    "valid_examples = np.array(random.sample(range(valid_window), valid_size))\n",
    "num_sampled = 64 # Number of negative examples to sample.\n",
    "\n",
    "graph = tf.Graph()\n",
    "\n",
    "with graph.as_default(), tf.device('/cpu:0'):\n",
    "\n",
    "  # Input data.\n",
    "  train_dataset = tf.placeholder(tf.int32, shape=[batch_size, bag_window * 2])\n",
    "  train_labels = tf.placeholder(tf.int32, shape=[batch_size, 1])\n",
    "  valid_dataset = tf.constant(valid_examples, dtype=tf.int32)\n",
    "  \n",
    "  # Variables.\n",
    "  embeddings = tf.Variable(\n",
    "    tf.random_uniform([vocabulary_size, embedding_size], -1.0, 1.0))\n",
    "  softmax_weights = tf.Variable(\n",
    "    tf.truncated_normal([vocabulary_size, embedding_size],\n",
    "                         stddev=1.0 / math.sqrt(embedding_size)))\n",
    "  softmax_biases = tf.Variable(tf.zeros([vocabulary_size]))\n",
    "  \n",
    "  # Model.\n",
    "  # Look up embeddings for inputs.\n",
    "  embeds = tf.nn.embedding_lookup(embeddings, train_dataset)\n",
    "  # Compute the softmax loss, using a sample of the negative labels each time.\n",
    "  loss = tf.reduce_mean(\n",
    "    tf.nn.sampled_softmax_loss(softmax_weights, softmax_biases, tf.reduce_sum(embeds, 1),\n",
    "                               train_labels, num_sampled, vocabulary_size))\n",
    "\n",
    "  # Optimizer.\n",
    "  optimizer = tf.train.AdagradOptimizer(1.0).minimize(loss)\n",
    "  \n",
    "  # Compute the similarity between minibatch examples and all embeddings.\n",
    "  # We use the cosine distance:\n",
    "  norm = tf.sqrt(tf.reduce_sum(tf.square(embeddings), 1, keep_dims=True))\n",
    "  normalized_embeddings = embeddings / norm\n",
    "  valid_embeddings = tf.nn.embedding_lookup(\n",
    "    normalized_embeddings, valid_dataset)\n",
    "  similarity = tf.matmul(valid_embeddings, tf.transpose(normalized_embeddings))\n"
   ]
  },
  {
   "cell_type": "code",
   "execution_count": null,
   "metadata": {
    "collapsed": true
   },
   "outputs": [],
   "source": [
    "num_steps = 100001\n",
    "\n",
    "with tf.Session(graph=graph) as session:\n",
    "  tf.initialize_all_variables().run()\n",
    "  print('Initialized')\n",
    "  average_loss = 0\n",
    "  for step in range(num_steps):\n",
    "    batch_data, batch_labels = generate_batch(\n",
    "      batch_size, bag_window)\n",
    "    feed_dict = {train_dataset : batch_data, train_labels : batch_labels}\n",
    "    _, l = session.run([optimizer, loss], feed_dict=feed_dict)\n",
    "    average_loss += l\n",
    "    if step % 2000 == 0:\n",
    "      if step > 0:\n",
    "        average_loss = average_loss / 2000\n",
    "      # The average loss is an estimate of the loss over the last 2000 batches.\n",
    "      print('Average loss at step %d: %f' % (step, average_loss))\n",
    "      average_loss = 0\n",
    "    # note that this is expensive (~20% slowdown if computed every 500 steps)\n",
    "    if step % 10000 == 0:\n",
    "      sim = similarity.eval()\n",
    "      for i in range(valid_size):\n",
    "        valid_word = reverse_dictionary[valid_examples[i]]\n",
    "        top_k = 8 # number of nearest neighbors\n",
    "        nearest = (-sim[i, :]).argsort()[1:top_k+1]\n",
    "        log = 'Nearest to %s:' % valid_word\n",
    "        for k in range(top_k):\n",
    "          close_word = reverse_dictionary[nearest[k]]\n",
    "          log = '%s %s,' % (log, close_word)\n",
    "        print(log)\n",
    "  final_embeddings = normalized_embeddings.eval()\n"
   ]
  },
  {
   "cell_type": "code",
   "execution_count": null,
   "metadata": {
    "collapsed": true
   },
   "outputs": [],
   "source": [
    "num_points = 400\n",
    "\n",
    "tsne = TSNE(perplexity=30, n_components=2, init='pca', n_iter=5000)\n",
    "two_d_embeddings = tsne.fit_transform(final_embeddings"
   ]
  },
  {
   "cell_type": "code",
   "execution_count": null,
   "metadata": {
    "collapsed": true
   },
   "outputs": [],
   "source": [
    "def plot(embeddings, labels):\n",
    "  assert embeddings.shape[0] >= len(labels), 'More labels than embeddings'\n",
    "  pylab.figure(figsize=(15,15))  # in inches\n",
    "  for i, label in enumerate(labels):\n",
    "    x, y = embeddings[i,:]\n",
    "    pylab.scatter(x, y)\n",
    "    pylab.annotate(label, xy=(x, y), xytext=(5, 2), textcoords='offset points',\n",
    "                   ha='right', va='bottom')\n",
    "  pylab.show()\n",
    "\n",
    "words = [reverse_dictionary[i] for i in range(1, num_points+1)]\n",
    "plot(two_d_embeddings, words)\n"
   ]
  }
 ],
 "metadata": {
  "colab": {
   "default_view": {},
   "name": "5_word2vec.ipynb",
   "provenance": [],
   "version": "0.3.2",
   "views": {}
  },
  "kernelspec": {
   "display_name": "Python 3",
   "language": "python",
   "name": "python3"
  },
  "language_info": {
   "codemirror_mode": {
    "name": "ipython",
    "version": 3
   },
   "file_extension": ".py",
   "mimetype": "text/x-python",
   "name": "python",
   "nbconvert_exporter": "python",
   "pygments_lexer": "ipython3",
   "version": "3.6.1"
  }
 },
 "nbformat": 4,
 "nbformat_minor": 1
}
