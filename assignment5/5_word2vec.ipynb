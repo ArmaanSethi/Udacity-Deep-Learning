{
 "cells": [
  {
   "cell_type": "markdown",
   "metadata": {
    "colab_type": "text",
    "id": "D7tqLMoKF6uq"
   },
   "source": [
    "Deep Learning\n",
    "=============\n",
    "\n",
    "Assignment 5\n",
    "------------\n",
    "\n",
    "The goal of this assignment is to train a Word2Vec skip-gram model over [Text8](http://mattmahoney.net/dc/textdata) data."
   ]
  },
  {
   "cell_type": "code",
   "execution_count": 5,
   "metadata": {
    "cellView": "both",
    "colab": {
     "autoexec": {
      "startup": false,
      "wait_interval": 0
     }
    },
    "colab_type": "code",
    "collapsed": true,
    "id": "0K1ZyLn04QZf"
   },
   "outputs": [],
   "source": [
    "# These are all the modules we'll be using later. Make sure you can import them\n",
    "# before proceeding further.\n",
    "%matplotlib inline\n",
    "from __future__ import print_function\n",
    "import collections\n",
    "import math\n",
    "import numpy as np\n",
    "import os\n",
    "import random\n",
    "import tensorflow as tf\n",
    "import zipfile\n",
    "from matplotlib import pylab\n",
    "from six.moves import range\n",
    "from six.moves.urllib.request import urlretrieve\n",
    "from sklearn.manifold import TSNE"
   ]
  },
  {
   "cell_type": "markdown",
   "metadata": {
    "colab_type": "text",
    "id": "aCjPJE944bkV"
   },
   "source": [
    "Download the data from the source website if necessary."
   ]
  },
  {
   "cell_type": "code",
   "execution_count": 6,
   "metadata": {
    "cellView": "both",
    "colab": {
     "autoexec": {
      "startup": false,
      "wait_interval": 0
     },
     "output_extras": [
      {
       "item_id": 1
      }
     ]
    },
    "colab_type": "code",
    "executionInfo": {
     "elapsed": 14640,
     "status": "ok",
     "timestamp": 1445964482948,
     "user": {
      "color": "#1FA15D",
      "displayName": "Vincent Vanhoucke",
      "isAnonymous": false,
      "isMe": true,
      "permissionId": "05076109866853157986",
      "photoUrl": "//lh6.googleusercontent.com/-cCJa7dTDcgQ/AAAAAAAAAAI/AAAAAAAACgw/r2EZ_8oYer4/s50-c-k-no/photo.jpg",
      "sessionId": "2f1ffade4c9f20de",
      "userId": "102167687554210253930"
     },
     "user_tz": 420
    },
    "id": "RJ-o3UBUFtCw",
    "outputId": "c4ec222c-80b5-4298-e635-93ca9f79c3b7"
   },
   "outputs": [
    {
     "name": "stdout",
     "output_type": "stream",
     "text": [
      "Found and verified text8.zip\n"
     ]
    }
   ],
   "source": [
    "url = 'http://mattmahoney.net/dc/'\n",
    "\n",
    "def maybe_download(filename, expected_bytes):\n",
    "  \"\"\"Download a file if not present, and make sure it's the right size.\"\"\"\n",
    "  if not os.path.exists(filename):\n",
    "    filename, _ = urlretrieve(url + filename, filename)\n",
    "  statinfo = os.stat(filename)\n",
    "  if statinfo.st_size == expected_bytes:\n",
    "    print('Found and verified %s' % filename)\n",
    "  else:\n",
    "    print(statinfo.st_size)\n",
    "    raise Exception(\n",
    "      'Failed to verify ' + filename + '. Can you get to it with a browser?')\n",
    "  return filename\n",
    "\n",
    "filename = maybe_download('text8.zip', 31344016)"
   ]
  },
  {
   "cell_type": "markdown",
   "metadata": {
    "colab_type": "text",
    "id": "Zqz3XiqI4mZT"
   },
   "source": [
    "Read the data into a string."
   ]
  },
  {
   "cell_type": "code",
   "execution_count": 7,
   "metadata": {
    "cellView": "both",
    "colab": {
     "autoexec": {
      "startup": false,
      "wait_interval": 0
     },
     "output_extras": [
      {
       "item_id": 1
      }
     ]
    },
    "colab_type": "code",
    "executionInfo": {
     "elapsed": 28844,
     "status": "ok",
     "timestamp": 1445964497165,
     "user": {
      "color": "#1FA15D",
      "displayName": "Vincent Vanhoucke",
      "isAnonymous": false,
      "isMe": true,
      "permissionId": "05076109866853157986",
      "photoUrl": "//lh6.googleusercontent.com/-cCJa7dTDcgQ/AAAAAAAAAAI/AAAAAAAACgw/r2EZ_8oYer4/s50-c-k-no/photo.jpg",
      "sessionId": "2f1ffade4c9f20de",
      "userId": "102167687554210253930"
     },
     "user_tz": 420
    },
    "id": "Mvf09fjugFU_",
    "outputId": "e3a928b4-1645-4fe8-be17-fcf47de5716d"
   },
   "outputs": [
    {
     "name": "stdout",
     "output_type": "stream",
     "text": [
      "Data size 17005207\n"
     ]
    }
   ],
   "source": [
    "def read_data(filename):\n",
    "  \"\"\"Extract the first file enclosed in a zip file as a list of words\"\"\"\n",
    "  with zipfile.ZipFile(filename) as f:\n",
    "    data = tf.compat.as_str(f.read(f.namelist()[0])).split()\n",
    "  return data\n",
    "  \n",
    "words = read_data(filename)\n",
    "print('Data size %d' % len(words))"
   ]
  },
  {
   "cell_type": "markdown",
   "metadata": {
    "colab_type": "text",
    "id": "Zdw6i4F8glpp"
   },
   "source": [
    "Build the dictionary and replace rare words with UNK token."
   ]
  },
  {
   "cell_type": "code",
   "execution_count": 8,
   "metadata": {
    "cellView": "both",
    "colab": {
     "autoexec": {
      "startup": false,
      "wait_interval": 0
     },
     "output_extras": [
      {
       "item_id": 1
      }
     ]
    },
    "colab_type": "code",
    "executionInfo": {
     "elapsed": 28849,
     "status": "ok",
     "timestamp": 1445964497178,
     "user": {
      "color": "#1FA15D",
      "displayName": "Vincent Vanhoucke",
      "isAnonymous": false,
      "isMe": true,
      "permissionId": "05076109866853157986",
      "photoUrl": "//lh6.googleusercontent.com/-cCJa7dTDcgQ/AAAAAAAAAAI/AAAAAAAACgw/r2EZ_8oYer4/s50-c-k-no/photo.jpg",
      "sessionId": "2f1ffade4c9f20de",
      "userId": "102167687554210253930"
     },
     "user_tz": 420
    },
    "id": "gAL1EECXeZsD",
    "outputId": "3fb4ecd1-df67-44b6-a2dc-2291730970b2"
   },
   "outputs": [
    {
     "name": "stdout",
     "output_type": "stream",
     "text": [
      "Most common words (+UNK) [['UNK', 418391], ('the', 1061396), ('of', 593677), ('and', 416629), ('one', 411764)]\n",
      "Sample data [5239, 3084, 12, 6, 195, 2, 3137, 46, 59, 156]\n"
     ]
    }
   ],
   "source": [
    "vocabulary_size = 50000\n",
    "\n",
    "def build_dataset(words):\n",
    "  count = [['UNK', -1]]\n",
    "  count.extend(collections.Counter(words).most_common(vocabulary_size - 1))\n",
    "  dictionary = dict()\n",
    "  for word, _ in count:\n",
    "    dictionary[word] = len(dictionary)\n",
    "  data = list()\n",
    "  unk_count = 0\n",
    "  for word in words:\n",
    "    if word in dictionary:\n",
    "      index = dictionary[word]\n",
    "    else:\n",
    "      index = 0  # dictionary['UNK']\n",
    "      unk_count = unk_count + 1\n",
    "    data.append(index)\n",
    "  count[0][1] = unk_count\n",
    "  reverse_dictionary = dict(zip(dictionary.values(), dictionary.keys())) \n",
    "  return data, count, dictionary, reverse_dictionary\n",
    "\n",
    "data, count, dictionary, reverse_dictionary = build_dataset(words)\n",
    "print('Most common words (+UNK)', count[:5])\n",
    "print('Sample data', data[:10])\n",
    "del words  # Hint to reduce memory."
   ]
  },
  {
   "cell_type": "markdown",
   "metadata": {
    "colab_type": "text",
    "id": "lFwoyygOmWsL"
   },
   "source": [
    "Function to generate a training batch for the skip-gram model."
   ]
  },
  {
   "cell_type": "code",
   "execution_count": 9,
   "metadata": {
    "cellView": "both",
    "colab": {
     "autoexec": {
      "startup": false,
      "wait_interval": 0
     },
     "output_extras": [
      {
       "item_id": 1
      }
     ]
    },
    "colab_type": "code",
    "executionInfo": {
     "elapsed": 113,
     "status": "ok",
     "timestamp": 1445964901989,
     "user": {
      "color": "#1FA15D",
      "displayName": "Vincent Vanhoucke",
      "isAnonymous": false,
      "isMe": true,
      "permissionId": "05076109866853157986",
      "photoUrl": "//lh6.googleusercontent.com/-cCJa7dTDcgQ/AAAAAAAAAAI/AAAAAAAACgw/r2EZ_8oYer4/s50-c-k-no/photo.jpg",
      "sessionId": "2f1ffade4c9f20de",
      "userId": "102167687554210253930"
     },
     "user_tz": 420
    },
    "id": "w9APjA-zmfjV",
    "outputId": "67cccb02-cdaf-4e47-d489-43bcc8d57bb8"
   },
   "outputs": [
    {
     "name": "stdout",
     "output_type": "stream",
     "text": [
      "data: ['anarchism', 'originated', 'as', 'a', 'term', 'of', 'abuse', 'first']\n",
      "\n",
      "with num_skips = 2 and skip_window = 1:\n",
      "    batch: ['originated', 'originated', 'as', 'as', 'a', 'a', 'term', 'term']\n",
      "    labels: ['as', 'anarchism', 'a', 'originated', 'term', 'as', 'a', 'of']\n",
      "\n",
      "with num_skips = 4 and skip_window = 2:\n",
      "    batch: ['as', 'as', 'as', 'as', 'a', 'a', 'a', 'a']\n",
      "    labels: ['anarchism', 'term', 'originated', 'a', 'as', 'term', 'originated', 'of']\n"
     ]
    }
   ],
   "source": [
    "data_index = 0\n",
    "\n",
    "def generate_batch(batch_size, num_skips, skip_window):\n",
    "  global data_index\n",
    "  assert batch_size % num_skips == 0\n",
    "  assert num_skips <= 2 * skip_window\n",
    "  batch = np.ndarray(shape=(batch_size), dtype=np.int32)\n",
    "  labels = np.ndarray(shape=(batch_size, 1), dtype=np.int32)\n",
    "  span = 2 * skip_window + 1 # [ skip_window target skip_window ]\n",
    "  buffer = collections.deque(maxlen=span)\n",
    "  for _ in range(span):\n",
    "    buffer.append(data[data_index])\n",
    "    data_index = (data_index + 1) % len(data)\n",
    "  for i in range(batch_size // num_skips):\n",
    "    target = skip_window  # target label at the center of the buffer\n",
    "    targets_to_avoid = [ skip_window ]\n",
    "    for j in range(num_skips):\n",
    "      while target in targets_to_avoid:\n",
    "        target = random.randint(0, span - 1)\n",
    "      targets_to_avoid.append(target)\n",
    "      batch[i * num_skips + j] = buffer[skip_window]\n",
    "      labels[i * num_skips + j, 0] = buffer[target]\n",
    "    buffer.append(data[data_index])\n",
    "    data_index = (data_index + 1) % len(data)\n",
    "  return batch, labels\n",
    "\n",
    "print('data:', [reverse_dictionary[di] for di in data[:8]])\n",
    "\n",
    "for num_skips, skip_window in [(2, 1), (4, 2)]:\n",
    "    data_index = 0\n",
    "    batch, labels = generate_batch(batch_size=8, num_skips=num_skips, skip_window=skip_window)\n",
    "    print('\\nwith num_skips = %d and skip_window = %d:' % (num_skips, skip_window))\n",
    "    print('    batch:', [reverse_dictionary[bi] for bi in batch])\n",
    "    print('    labels:', [reverse_dictionary[li] for li in labels.reshape(8)])"
   ]
  },
  {
   "cell_type": "markdown",
   "metadata": {
    "colab_type": "text",
    "id": "Ofd1MbBuwiva"
   },
   "source": [
    "Train a skip-gram model."
   ]
  },
  {
   "cell_type": "code",
   "execution_count": 10,
   "metadata": {
    "cellView": "both",
    "colab": {
     "autoexec": {
      "startup": false,
      "wait_interval": 0
     }
    },
    "colab_type": "code",
    "collapsed": true,
    "id": "8pQKsV4Vwlzy"
   },
   "outputs": [],
   "source": [
    "batch_size = 128\n",
    "embedding_size = 128 # Dimension of the embedding vector.\n",
    "skip_window = 1 # How many words to consider left and right.\n",
    "num_skips = 2 # How many times to reuse an input to generate a label.\n",
    "# We pick a random validation set to sample nearest neighbors. here we limit the\n",
    "# validation samples to the words that have a low numeric ID, which by\n",
    "# construction are also the most frequent. \n",
    "valid_size = 16 # Random set of words to evaluate similarity on.\n",
    "valid_window = 100 # Only pick dev samples in the head of the distribution.\n",
    "valid_examples = np.array(random.sample(range(valid_window), valid_size))\n",
    "num_sampled = 64 # Number of negative examples to sample.\n",
    "\n",
    "graph = tf.Graph()\n",
    "\n",
    "with graph.as_default(), tf.device('/cpu:0'):\n",
    "\n",
    "  # Input data.\n",
    "  train_dataset = tf.placeholder(tf.int32, shape=[batch_size])\n",
    "  train_labels = tf.placeholder(tf.int32, shape=[batch_size, 1])\n",
    "  valid_dataset = tf.constant(valid_examples, dtype=tf.int32)\n",
    "  \n",
    "  # Variables.\n",
    "  embeddings = tf.Variable(\n",
    "    tf.random_uniform([vocabulary_size, embedding_size], -1.0, 1.0))\n",
    "  softmax_weights = tf.Variable(\n",
    "    tf.truncated_normal([vocabulary_size, embedding_size],\n",
    "                         stddev=1.0 / math.sqrt(embedding_size)))\n",
    "  softmax_biases = tf.Variable(tf.zeros([vocabulary_size]))\n",
    "  \n",
    "  # Model.\n",
    "  # Look up embeddings for inputs.\n",
    "  embed = tf.nn.embedding_lookup(embeddings, train_dataset)\n",
    "  # Compute the softmax loss, using a sample of the negative labels each time.\n",
    "  loss = tf.reduce_mean(\n",
    "    tf.nn.sampled_softmax_loss(weights=softmax_weights, biases=softmax_biases, inputs=embed,\n",
    "                               labels=train_labels, num_sampled=num_sampled, num_classes=vocabulary_size))\n",
    "\n",
    "  # Optimizer.\n",
    "  # Note: The optimizer will optimize the softmax_weights AND the embeddings.\n",
    "  # This is because the embeddings are defined as a variable quantity and the\n",
    "  # optimizer's `minimize` method will by default modify all variable quantities \n",
    "  # that contribute to the tensor it is passed.\n",
    "  # See docs on `tf.train.Optimizer.minimize()` for more details.\n",
    "  optimizer = tf.train.AdagradOptimizer(1.0).minimize(loss)\n",
    "  \n",
    "  # Compute the similarity between minibatch examples and all embeddings.\n",
    "  # We use the cosine distance:\n",
    "  norm = tf.sqrt(tf.reduce_sum(tf.square(embeddings), 1, keep_dims=True))\n",
    "  normalized_embeddings = embeddings / norm\n",
    "  valid_embeddings = tf.nn.embedding_lookup(\n",
    "    normalized_embeddings, valid_dataset)\n",
    "  similarity = tf.matmul(valid_embeddings, tf.transpose(normalized_embeddings))"
   ]
  },
  {
   "cell_type": "code",
   "execution_count": null,
   "metadata": {
    "cellView": "both",
    "colab": {
     "autoexec": {
      "startup": false,
      "wait_interval": 0
     },
     "output_extras": [
      {
       "item_id": 23
      },
      {
       "item_id": 48
      },
      {
       "item_id": 61
      }
     ]
    },
    "colab_type": "code",
    "executionInfo": {
     "elapsed": 436189,
     "status": "ok",
     "timestamp": 1445965429787,
     "user": {
      "color": "#1FA15D",
      "displayName": "Vincent Vanhoucke",
      "isAnonymous": false,
      "isMe": true,
      "permissionId": "05076109866853157986",
      "photoUrl": "//lh6.googleusercontent.com/-cCJa7dTDcgQ/AAAAAAAAAAI/AAAAAAAACgw/r2EZ_8oYer4/s50-c-k-no/photo.jpg",
      "sessionId": "2f1ffade4c9f20de",
      "userId": "102167687554210253930"
     },
     "user_tz": 420
    },
    "id": "1bQFGceBxrWW",
    "outputId": "5ebd6d9a-33c6-4bcd-bf6d-252b0b6055e4"
   },
   "outputs": [
    {
     "name": "stdout",
     "output_type": "stream",
     "text": [
      "Initialized\n",
      "Average loss at step 0: 8.372131\n",
      "Nearest to that: quarterly, benoit, argonne, uncovered, watch, cva, noteworthy, structurally,\n",
      "Nearest to was: otomo, donovan, devas, included, strewn, ringers, ventilation, scrutiny,\n",
      "Nearest to such: rpm, samson, feyerabend, insecticide, croydon, meany, rabinowitz, excellence,\n",
      "Nearest to world: barn, teal, wilbur, distrito, malaysian, lensing, bugatti, lazenby,\n",
      "Nearest to four: discourage, sedgwick, reveal, frightful, nonsense, originators, agile, malone,\n",
      "Nearest to five: mitt, reforms, kermit, chordata, mississippi, solidarity, unquestionably, projective,\n",
      "Nearest to two: visibly, panacea, overcame, trilobites, immunities, schriften, adalbert, ejaculate,\n",
      "Nearest to new: borgir, pulses, disjointed, heaney, papyri, podcast, answered, vedanta,\n",
      "Nearest to i: amend, crippling, soldiery, eddy, conquered, smiths, machines, vindhya,\n",
      "Nearest to between: simmered, pla, advantages, heavy, royalists, universalist, discerning, chilperic,\n",
      "Nearest to s: haydn, krajina, inauguration, pharmacist, biblical, pettigrew, gosling, tributaries,\n",
      "Nearest to by: vortex, honorius, extradited, sublimation, royalist, bau, projects, originating,\n",
      "Nearest to during: ifc, knockout, norwood, fingernails, dealers, adopt, dolls, fairgrounds,\n",
      "Nearest to their: commemorative, honeys, bidder, cigarettes, tall, droughts, mesmer, matra,\n",
      "Nearest to it: ach, hymenoptera, excommunication, hydrodynamics, reconsideration, daphne, cracking, grocer,\n",
      "Nearest to there: airframe, overcomes, miniaturized, hexer, battlefield, snippets, amnon, outward,\n",
      "Average loss at step 2000: 4.365427\n",
      "Average loss at step 4000: 3.865853\n",
      "Average loss at step 6000: 3.791178\n",
      "Average loss at step 8000: 3.687997\n",
      "Average loss at step 10000: 3.620100\n",
      "Nearest to that: which, this, also, it, sverdlovsk, quarterly, hunting, we,\n",
      "Nearest to was: is, were, had, by, has, be, been, are,\n",
      "Nearest to such: well, conjunct, hide, fabian, meany, croydon, pathogen, dempsey,\n",
      "Nearest to world: ircii, malaysian, teal, olde, incendiary, wilbur, bnls, garland,\n",
      "Nearest to four: six, eight, seven, three, five, nine, two, zero,\n",
      "Nearest to five: eight, nine, six, four, three, seven, zero, two,\n",
      "Nearest to two: three, five, four, six, eight, nine, one, seven,\n",
      "Nearest to new: hol, vedanta, kiosk, colombians, vengeance, wide, podcast, pulses,\n",
      "Nearest to i: khattab, amend, she, dances, ballpoint, specifications, eddy, conquered,\n",
      "Nearest to between: from, pla, with, discerning, simmered, advantages, major, humble,\n",
      "Nearest to s: his, and, slithy, schedules, pharmacist, finiteness, bands, chordata,\n",
      "Nearest to by: was, sicilian, apostle, in, from, penang, oldsmobile, dbms,\n",
      "Nearest to during: second, sicilian, forall, in, subtitles, ifc, surveying, allan,\n",
      "Nearest to their: his, its, the, lighthearted, cigarettes, her, garrick, buddhahood,\n",
      "Nearest to it: he, this, there, not, what, which, labial, they,\n",
      "Nearest to there: it, he, battlefield, they, hermits, proteus, media, shrinking,\n",
      "Average loss at step 12000: 3.610204\n",
      "Average loss at step 14000: 3.572998\n",
      "Average loss at step 16000: 3.411931\n",
      "Average loss at step 18000: 3.462034\n",
      "Average loss at step 20000: 3.544520\n",
      "Nearest to that: which, though, indeed, but, tambourine, quarterly, placentia, sector,\n",
      "Nearest to was: is, has, were, had, be, been, became, are,\n",
      "Nearest to such: well, fabian, croydon, known, conjunct, pathogen, bretton, artur,\n",
      "Nearest to world: ircii, malaysian, incendiary, olde, bnls, right, lazenby, wilbur,\n",
      "Nearest to four: six, three, seven, eight, five, two, nine, zero,\n",
      "Nearest to five: six, eight, three, four, seven, two, zero, nine,\n",
      "Nearest to two: three, five, four, six, eight, seven, one, zero,\n",
      "Nearest to new: kiosk, vedanta, inertia, elke, musings, hol, decrypts, retired,\n",
      "Nearest to i: immunotherapy, amend, ii, adrian, fractal, g, bessie, dances,\n",
      "Nearest to between: with, from, pla, simmered, discerning, in, advantages, chlamydia,\n",
      "Nearest to s: sensitive, temperatures, national, linus, chordata, dlr, amusement, botany,\n",
      "Nearest to by: been, oldsmobile, be, sicilian, were, was, in, wilford,\n",
      "Nearest to during: second, in, when, subtitles, telekom, allan, norwood, sicilian,\n",
      "Nearest to their: his, its, the, her, lighthearted, frobenius, litovsk, caps,\n",
      "Nearest to it: he, there, this, they, quesada, which, she, pallas,\n",
      "Nearest to there: it, they, he, hermits, proteus, which, lined, archaeological,\n",
      "Average loss at step 22000: 3.501253\n",
      "Average loss at step 24000: 3.492920\n",
      "Average loss at step 26000: 3.482770\n",
      "Average loss at step 28000: 3.483591\n",
      "Average loss at step 30000: 3.500161\n",
      "Nearest to that: which, this, what, previous, though, however, placentia, but,\n",
      "Nearest to was: is, had, has, were, became, been, when, by,\n",
      "Nearest to such: well, these, artur, known, bretton, some, many, croydon,\n",
      "Nearest to world: incendiary, malaysian, country, ircii, garland, civil, consequent, carpet,\n",
      "Nearest to four: five, seven, six, three, eight, two, nine, zero,\n",
      "Nearest to five: four, eight, seven, three, six, nine, zero, two,\n",
      "Nearest to two: four, five, three, six, eight, one, seven, zero,\n",
      "Nearest to new: wide, kiosk, hol, inertia, second, colombians, billboards, musings,\n",
      "Nearest to i: ii, g, t, adrian, immunotherapy, we, dances, she,\n",
      "Nearest to between: with, from, simmered, knoxville, in, pla, into, bund,\n",
      "Nearest to s: his, pisces, bands, slithy, threw, odense, its, botany,\n",
      "Nearest to by: under, been, ousted, from, in, depicts, with, exaggeration,\n",
      "Nearest to during: after, when, in, at, second, praia, though, throughout,\n",
      "Nearest to their: its, his, her, the, some, lighthearted, these, our,\n",
      "Nearest to it: he, there, this, she, they, who, which, quesada,\n",
      "Nearest to there: they, it, he, often, said, lined, hermits, this,\n",
      "Average loss at step 32000: 3.505667\n",
      "Average loss at step 34000: 3.496367\n",
      "Average loss at step 36000: 3.453401\n",
      "Average loss at step 38000: 3.295951\n",
      "Average loss at step 40000: 3.424424\n",
      "Nearest to that: which, this, what, however, it, where, ceramic, skepticism,\n",
      "Nearest to was: is, has, had, became, were, been, be, when,\n",
      "Nearest to such: well, these, known, artur, described, croydon, alchemical, extremism,\n",
      "Nearest to world: incendiary, carpet, malaysian, civil, fountains, conforming, country, town,\n",
      "Nearest to four: six, three, five, eight, seven, two, nine, one,\n",
      "Nearest to five: seven, six, four, three, eight, nine, two, zero,\n",
      "Nearest to two: three, four, five, seven, six, eight, one, nine,\n",
      "Nearest to new: wide, trademarked, kiosk, unprovable, hol, fib, inertia, decrypts,\n",
      "Nearest to i: we, ii, t, you, they, g, she, adrian,\n",
      "Nearest to between: with, from, knoxville, simmered, before, osnabr, during, mughal,\n",
      "Nearest to s: his, hippolyte, churchill, ferdinand, pisces, bz, selves, interrogated,\n",
      "Nearest to by: when, oldsmobile, as, with, disclaimed, prefecture, be, wilford,\n",
      "Nearest to during: when, until, after, throughout, in, before, at, since,\n",
      "Nearest to their: his, its, her, the, lighthearted, some, our, arose,\n",
      "Nearest to it: he, there, this, she, they, quesada, which, columbanus,\n",
      "Nearest to there: it, they, he, usually, now, often, also, hermits,\n",
      "Average loss at step 42000: 3.436056\n",
      "Average loss at step 44000: 3.452300\n",
      "Average loss at step 46000: 3.451880\n",
      "Average loss at step 48000: 3.352068\n",
      "Average loss at step 50000: 3.387144\n",
      "Nearest to that: which, however, what, quarterly, but, indeed, this, tambourine,\n",
      "Nearest to was: is, has, became, were, had, be, been, by,\n",
      "Nearest to such: well, these, known, described, follows, artur, many, extremism,\n",
      "Nearest to world: incendiary, carpet, civil, marcus, advancement, morgenstern, dst, malaysian,\n",
      "Nearest to four: six, seven, five, three, eight, two, nine, zero,\n",
      "Nearest to five: six, four, seven, eight, zero, three, nine, two,\n",
      "Nearest to two: three, six, four, one, five, seven, eight, zero,\n",
      "Nearest to new: kiosk, trademarked, special, rune, spinning, hol, musings, wide,\n",
      "Nearest to i: ii, we, you, t, g, adrian, implying, n,\n",
      "Nearest to between: with, knoxville, simmered, during, osnabr, from, browne, valproate,\n",
      "Nearest to s: whose, pisces, posterity, his, and, bartholomew, blowout, pt,\n",
      "Nearest to by: under, through, with, was, against, after, and, during,\n"
     ]
    },
    {
     "name": "stdout",
     "output_type": "stream",
     "text": [
      "Nearest to during: in, after, until, since, when, throughout, through, before,\n",
      "Nearest to their: its, his, her, the, our, several, litovsk, these,\n",
      "Nearest to it: he, there, she, this, they, quesada, still, pallas,\n",
      "Nearest to there: they, it, he, she, now, molinari, lined, often,\n",
      "Average loss at step 52000: 3.435217\n",
      "Average loss at step 54000: 3.427783\n",
      "Average loss at step 56000: 3.439730\n",
      "Average loss at step 58000: 3.402257\n",
      "Average loss at step 60000: 3.396111\n",
      "Nearest to that: which, however, what, this, there, it, actually, indeed,\n",
      "Nearest to was: is, became, had, has, were, been, when, although,\n",
      "Nearest to such: well, these, known, many, certain, slight, lederman, including,\n",
      "Nearest to world: incendiary, carpet, malaysian, archaically, consultative, blob, cold, coherence,\n",
      "Nearest to four: eight, five, six, seven, three, nine, two, zero,\n",
      "Nearest to five: six, four, three, eight, seven, nine, zero, two,\n",
      "Nearest to two: three, four, five, eight, six, seven, one, zero,\n",
      "Nearest to new: special, projectors, hol, rune, spinning, wide, trademarked, wherein,\n",
      "Nearest to i: ii, we, you, t, g, not, adrian, they,\n",
      "Nearest to between: with, simmered, from, knoxville, osnabr, in, mughal, before,\n",
      "Nearest to s: whose, pisces, tesla, holloway, aerospace, his, golem, isbn,\n",
      "Nearest to by: through, under, using, millicent, with, excludes, toward, was,\n",
      "Nearest to during: after, in, since, until, before, when, within, throughout,\n",
      "Nearest to their: its, his, her, the, our, whose, arose, lighthearted,\n",
      "Nearest to it: he, there, she, this, they, which, quesada, still,\n",
      "Nearest to there: it, they, now, he, often, still, this, she,\n",
      "Average loss at step 62000: 3.238645\n",
      "Average loss at step 64000: 3.259174\n",
      "Average loss at step 66000: 3.402888\n",
      "Average loss at step 68000: 3.392558\n"
     ]
    }
   ],
   "source": [
    "num_steps = 100001\n",
    "\n",
    "with tf.Session(graph=graph) as session:\n",
    "  tf.global_variables_initializer().run()\n",
    "  print('Initialized')\n",
    "  average_loss = 0\n",
    "  for step in range(num_steps):\n",
    "    batch_data, batch_labels = generate_batch(\n",
    "      batch_size, num_skips, skip_window)\n",
    "    feed_dict = {train_dataset : batch_data, train_labels : batch_labels}\n",
    "    _, l = session.run([optimizer, loss], feed_dict=feed_dict)\n",
    "    average_loss += l\n",
    "    if step % 2000 == 0:\n",
    "      if step > 0:\n",
    "        average_loss = average_loss / 2000\n",
    "      # The average loss is an estimate of the loss over the last 2000 batches.\n",
    "      print('Average loss at step %d: %f' % (step, average_loss))\n",
    "      average_loss = 0\n",
    "    # note that this is expensive (~20% slowdown if computed every 500 steps)\n",
    "    if step % 10000 == 0:\n",
    "      sim = similarity.eval()\n",
    "      for i in range(valid_size):\n",
    "        valid_word = reverse_dictionary[valid_examples[i]]\n",
    "        top_k = 8 # number of nearest neighbors\n",
    "        nearest = (-sim[i, :]).argsort()[1:top_k+1]\n",
    "        log = 'Nearest to %s:' % valid_word\n",
    "        for k in range(top_k):\n",
    "          close_word = reverse_dictionary[nearest[k]]\n",
    "          log = '%s %s,' % (log, close_word)\n",
    "        print(log)\n",
    "  final_embeddings = normalized_embeddings.eval()"
   ]
  },
  {
   "cell_type": "code",
   "execution_count": null,
   "metadata": {
    "cellView": "both",
    "colab": {
     "autoexec": {
      "startup": false,
      "wait_interval": 0
     }
    },
    "colab_type": "code",
    "collapsed": true,
    "id": "jjJXYA_XzV79"
   },
   "outputs": [],
   "source": [
    "num_points = 400\n",
    "\n",
    "tsne = TSNE(perplexity=30, n_components=2, init='pca', n_iter=5000)\n",
    "two_d_embeddings = tsne.fit_transform(final_embeddings[1:num_points+1, :])"
   ]
  },
  {
   "cell_type": "code",
   "execution_count": null,
   "metadata": {
    "cellView": "both",
    "colab": {
     "autoexec": {
      "startup": false,
      "wait_interval": 0
     },
     "output_extras": [
      {
       "item_id": 1
      }
     ]
    },
    "colab_type": "code",
    "executionInfo": {
     "elapsed": 4763,
     "status": "ok",
     "timestamp": 1445965465525,
     "user": {
      "color": "#1FA15D",
      "displayName": "Vincent Vanhoucke",
      "isAnonymous": false,
      "isMe": true,
      "permissionId": "05076109866853157986",
      "photoUrl": "//lh6.googleusercontent.com/-cCJa7dTDcgQ/AAAAAAAAAAI/AAAAAAAACgw/r2EZ_8oYer4/s50-c-k-no/photo.jpg",
      "sessionId": "2f1ffade4c9f20de",
      "userId": "102167687554210253930"
     },
     "user_tz": 420
    },
    "id": "o_e0D_UezcDe",
    "outputId": "df22e4a5-e8ec-4e5e-d384-c6cf37c68c34"
   },
   "outputs": [],
   "source": [
    "def plot(embeddings, labels):\n",
    "  assert embeddings.shape[0] >= len(labels), 'More labels than embeddings'\n",
    "  pylab.figure(figsize=(15,15))  # in inches\n",
    "  for i, label in enumerate(labels):\n",
    "    x, y = embeddings[i,:]\n",
    "    pylab.scatter(x, y)\n",
    "    pylab.annotate(label, xy=(x, y), xytext=(5, 2), textcoords='offset points',\n",
    "                   ha='right', va='bottom')\n",
    "  pylab.show()\n",
    "\n",
    "words = [reverse_dictionary[i] for i in range(1, num_points+1)]\n",
    "plot(two_d_embeddings, words)"
   ]
  },
  {
   "cell_type": "markdown",
   "metadata": {
    "colab_type": "text",
    "id": "QB5EFrBnpNnc"
   },
   "source": [
    "---\n",
    "\n",
    "Problem\n",
    "-------\n",
    "\n",
    "An alternative to skip-gram is another Word2Vec model called [CBOW](http://arxiv.org/abs/1301.3781) (Continuous Bag of Words). In the CBOW model, instead of predicting a context word from a word vector, you predict a word from the sum of all the word vectors in its context. Implement and evaluate a CBOW model trained on the text8 dataset.\n",
    "\n",
    "---"
   ]
  }
 ],
 "metadata": {
  "colab": {
   "default_view": {},
   "name": "5_word2vec.ipynb",
   "provenance": [],
   "version": "0.3.2",
   "views": {}
  },
  "kernelspec": {
   "display_name": "Python 2",
   "language": "python",
   "name": "python2"
  },
  "language_info": {
   "codemirror_mode": {
    "name": "ipython",
    "version": 2
   },
   "file_extension": ".py",
   "mimetype": "text/x-python",
   "name": "python",
   "nbconvert_exporter": "python",
   "pygments_lexer": "ipython2",
   "version": "2.7.13"
  }
 },
 "nbformat": 4,
 "nbformat_minor": 1
}
